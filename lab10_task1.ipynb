{
 "cells": [
  {
   "cell_type": "markdown",
   "metadata": {},
   "source": [
    "### Task 0 - Preparation of Task 1"
   ]
  },
  {
   "cell_type": "markdown",
   "metadata": {},
   "source": [
    "A. Fetching the data"
   ]
  },
  {
   "cell_type": "code",
   "execution_count": 1,
   "metadata": {},
   "outputs": [],
   "source": [
    "import requests\n",
    "URL = 'https://collector-otp-prod.camsys-apps.com/realtime/gtfsrt/ALL/alerts?type=json'\n",
    "data = requests.get(URL).json()"
   ]
  },
  {
   "cell_type": "code",
   "execution_count": 3,
   "metadata": {},
   "outputs": [
    {
     "name": "stdout",
     "output_type": "stream",
     "text": [
      "Number of alerts: 398\n",
      "Details of alrert indexed 75\n",
      "**active_period**\n"
     ]
    },
    {
     "data": {
      "text/plain": [
       "[{'start': 1713326400, 'end': 1745193600}]"
      ]
     },
     "metadata": {},
     "output_type": "display_data"
    },
    {
     "name": "stdout",
     "output_type": "stream",
     "text": [
      "**informed_entity**\n"
     ]
    },
    {
     "data": {
      "text/plain": [
       "[{'agency_id': 'MTABC',\n",
       "  'route_id': 'BXM3',\n",
       "  'transit_realtime.mercury_entity_selector': {'sort_order': 'MTA:BXM3:17'}}]"
      ]
     },
     "metadata": {},
     "output_type": "display_data"
    },
    {
     "name": "stdout",
     "output_type": "stream",
     "text": [
      "**alert_type**\n"
     ]
    },
    {
     "data": {
      "text/plain": [
       "'Planned - Detour'"
      ]
     },
     "metadata": {},
     "output_type": "display_data"
    }
   ],
   "source": [
    "print('Number of alerts:', len(data['entity']))\n",
    "print('Details of alrert indexed 75')\n",
    "alert = data['entity'][75]['alert']\n",
    "print('**active_period**')\n",
    "display(alert['active_period'])\n",
    "print('**informed_entity**')\n",
    "display(alert['informed_entity'])\n",
    "print('**alert_type**')\n",
    "display(alert['transit_realtime.mercury_alert']['alert_type'])"
   ]
  },
  {
   "cell_type": "markdown",
   "metadata": {},
   "source": [
    "Use 'A' as a list of entities for step B"
   ]
  },
  {
   "cell_type": "code",
   "execution_count": 4,
   "metadata": {},
   "outputs": [],
   "source": [
    "A = data['entity']"
   ]
  },
  {
   "cell_type": "markdown",
   "metadata": {},
   "source": [
    "B. Traverse through the alerts, and keep those that is with agency_id of value 'MTASBWY' and has a route_id. Keep the 'alert' field in the output."
   ]
  },
  {
   "cell_type": "code",
   "execution_count": 5,
   "metadata": {},
   "outputs": [
    {
     "name": "stdout",
     "output_type": "stream",
     "text": [
      "221\n",
      "===\n"
     ]
    },
    {
     "data": {
      "text/plain": [
       "{'active_period': [{'start': 1729650816, 'end': 1729651530}],\n",
       " 'informed_entity': [{'agency_id': 'MTASBWY',\n",
       "   'route_id': 'N',\n",
       "   'transit_realtime.mercury_entity_selector': {'sort_order': 'MTASBWY:N:26'}},\n",
       "  {'agency_id': 'MTASBWY', 'stop_id': 'R09'}],\n",
       " 'header_text': {'translation': [{'text': 'Astoria-bound [N] trains are running with delays after we requested NYPD assistance for someone being disruptive on a train at Queensboro Plaza.',\n",
       "    'language': 'en'},\n",
       "   {'text': '<p><strong>Astoria</strong>-bound [N] trains are running with delays after we requested NYPD assistance for someone being disruptive on a train at <b>Queensboro Plaza</b>.</p>',\n",
       "    'language': 'en-html'}]},\n",
       " 'transit_realtime.mercury_alert': {'created_at': 1729648962,\n",
       "  'updated_at': 1729650816,\n",
       "  'alert_type': 'Delays',\n",
       "  'display_before_active': 0}}"
      ]
     },
     "metadata": {},
     "output_type": "display_data"
    },
    {
     "name": "stdout",
     "output_type": "stream",
     "text": [
      "===\n"
     ]
    },
    {
     "data": {
      "text/plain": [
       "{'active_period': [{'start': 1729904400, 'end': 1730102400}],\n",
       " 'informed_entity': [{'agency_id': 'MTASBWY',\n",
       "   'route_id': 'SI',\n",
       "   'transit_realtime.mercury_entity_selector': {'sort_order': 'MTASBWY:SI:10'}},\n",
       "  {'agency_id': 'MTASBWY', 'stop_id': 'S11'},\n",
       "  {'agency_id': 'MTASBWY', 'stop_id': 'S15'}],\n",
       " 'header_text': {'translation': [{'text': \"All [SIR] trains from Arthur Kill to Prince's Bay board from the Tottenville-bound platform\",\n",
       "    'language': 'en'},\n",
       "   {'text': \"<p>All [SIR] trains from <b>Arthur Kill</b> to <b>Prince's Bay</b> board from the Tottenville-bound platform</p>\",\n",
       "    'language': 'en-html'}]},\n",
       " 'description_text': {'translation': [{'text': \"Boarding change includes Arthur Kill, Richmond Valley, Pleasant Plains and Prince's Bay stations.\\nWhat's happening?\\nScheduled maintenance\",\n",
       "    'language': 'en'},\n",
       "   {'text': \"<ul><li><p>Boarding change includes <b>Arthur Kill</b>, <b>Richmond Valley</b>, <b>Pleasant Plains</b> and <b>Prince's Bay</b> stations.</p></li></ul><p><strong>What's happening?</strong></p><p>Scheduled maintenance</p>\",\n",
       "    'language': 'en-html'}]},\n",
       " 'transit_realtime.mercury_alert': {'created_at': 1729190471,\n",
       "  'updated_at': 1729190508,\n",
       "  'alert_type': 'Boarding Change',\n",
       "  'display_before_active': 3600,\n",
       "  'human_readable_active_period': {'translation': [{'text': 'Oct 25 - 28, Fri 9:00 PM to Mon 4:00 AM',\n",
       "     'language': 'en'}]}}}"
      ]
     },
     "metadata": {},
     "output_type": "display_data"
    }
   ],
   "source": [
    "B = [entity['alert']\n",
    "     for entity in A\n",
    "     for x in entity['alert']['informed_entity']\n",
    "     if 'route_id' in x and x['agency_id'] == 'MTASBWY']\n",
    "print(len(B))\n",
    "print('===')\n",
    "display(B[0])\n",
    "print('===')\n",
    "display(B[1])"
   ]
  },
  {
   "cell_type": "markdown",
   "metadata": {},
   "source": [
    "C. Filter the data to only include the active period based on the current time."
   ]
  },
  {
   "cell_type": "code",
   "execution_count": 6,
   "metadata": {},
   "outputs": [
    {
     "name": "stdout",
     "output_type": "stream",
     "text": [
      "16\n",
      "===\n"
     ]
    },
    {
     "data": {
      "text/plain": [
       "[{'active_period': [{'start': 1728354600, 'end': 1728378900},\n",
       "   {'start': 1728959400, 'end': 1728983700},\n",
       "   {'start': 1729564200, 'end': 1729588500},\n",
       "   {'start': 1730169000, 'end': 1730193300},\n",
       "   {'start': 1730777400, 'end': 1730801700},\n",
       "   {'start': 1731382200, 'end': 1731406500},\n",
       "   {'start': 1731987000, 'end': 1732011300},\n",
       "   {'start': 1732591800, 'end': 1732616100},\n",
       "   {'start': 1733196600, 'end': 1733220900},\n",
       "   {'start': 1733801400, 'end': 1733825700},\n",
       "   {'start': 1734406200, 'end': 1734430500},\n",
       "   {'start': 1735011000, 'end': 1735035300},\n",
       "   {'start': 1735615800, 'end': 1735640100},\n",
       "   {'start': 1736220600, 'end': 1736244900},\n",
       "   {'start': 1736825400, 'end': 1736849700},\n",
       "   {'start': 1737430200, 'end': 1737454500},\n",
       "   {'start': 1738035000, 'end': 1738059300},\n",
       "   {'start': 1738639800, 'end': 1738664100},\n",
       "   {'start': 1739244600, 'end': 1739268900},\n",
       "   {'start': 1739849400, 'end': 1739873700},\n",
       "   {'start': 1740454200, 'end': 1740478500},\n",
       "   {'start': 1741059000, 'end': 1741083300},\n",
       "   {'start': 1741660200, 'end': 1741684500},\n",
       "   {'start': 1742265000, 'end': 1742289300},\n",
       "   {'start': 1742869800, 'end': 1742894100},\n",
       "   {'start': 1743474600, 'end': 1743498900},\n",
       "   {'start': 1744079400, 'end': 1744103700},\n",
       "   {'start': 1744684200, 'end': 1744708500},\n",
       "   {'start': 1728441000, 'end': 1728465300},\n",
       "   {'start': 1729045800, 'end': 1729070100},\n",
       "   {'start': 1729650600, 'end': 1729674900},\n",
       "   {'start': 1730255400, 'end': 1730279700},\n",
       "   {'start': 1730863800, 'end': 1730888100},\n",
       "   {'start': 1731468600, 'end': 1731492900},\n",
       "   {'start': 1732073400, 'end': 1732097700},\n",
       "   {'start': 1732678200, 'end': 1732702500},\n",
       "   {'start': 1733283000, 'end': 1733307300},\n",
       "   {'start': 1733887800, 'end': 1733912100},\n",
       "   {'start': 1734492600, 'end': 1734516900},\n",
       "   {'start': 1735097400, 'end': 1735121700},\n",
       "   {'start': 1735702200, 'end': 1735726500},\n",
       "   {'start': 1736307000, 'end': 1736331300},\n",
       "   {'start': 1736911800, 'end': 1736936100},\n",
       "   {'start': 1737516600, 'end': 1737540900},\n",
       "   {'start': 1738121400, 'end': 1738145700},\n",
       "   {'start': 1738726200, 'end': 1738750500},\n",
       "   {'start': 1739331000, 'end': 1739355300},\n",
       "   {'start': 1739935800, 'end': 1739960100},\n",
       "   {'start': 1740540600, 'end': 1740564900},\n",
       "   {'start': 1741145400, 'end': 1741169700},\n",
       "   {'start': 1741746600, 'end': 1741770900},\n",
       "   {'start': 1742351400, 'end': 1742375700},\n",
       "   {'start': 1742956200, 'end': 1742980500},\n",
       "   {'start': 1743561000, 'end': 1743585300},\n",
       "   {'start': 1744165800, 'end': 1744190100},\n",
       "   {'start': 1744770600, 'end': 1744794900},\n",
       "   {'start': 1728527400, 'end': 1728551700},\n",
       "   {'start': 1729132200, 'end': 1729156500},\n",
       "   {'start': 1729737000, 'end': 1729761300},\n",
       "   {'start': 1730341800, 'end': 1730366100},\n",
       "   {'start': 1730950200, 'end': 1730974500},\n",
       "   {'start': 1731555000, 'end': 1731579300},\n",
       "   {'start': 1732159800, 'end': 1732184100},\n",
       "   {'start': 1732764600, 'end': 1732788900},\n",
       "   {'start': 1733369400, 'end': 1733393700},\n",
       "   {'start': 1733974200, 'end': 1733998500},\n",
       "   {'start': 1734579000, 'end': 1734603300},\n",
       "   {'start': 1735183800, 'end': 1735208100},\n",
       "   {'start': 1735788600, 'end': 1735812900},\n",
       "   {'start': 1736393400, 'end': 1736417700},\n",
       "   {'start': 1736998200, 'end': 1737022500},\n",
       "   {'start': 1737603000, 'end': 1737627300},\n",
       "   {'start': 1738207800, 'end': 1738232100},\n",
       "   {'start': 1738812600, 'end': 1738836900},\n",
       "   {'start': 1739417400, 'end': 1739441700},\n",
       "   {'start': 1740022200, 'end': 1740046500},\n",
       "   {'start': 1740627000, 'end': 1740651300},\n",
       "   {'start': 1741231800, 'end': 1741256100},\n",
       "   {'start': 1741833000, 'end': 1741857300},\n",
       "   {'start': 1742437800, 'end': 1742462100},\n",
       "   {'start': 1743042600, 'end': 1743066900},\n",
       "   {'start': 1743647400, 'end': 1743671700},\n",
       "   {'start': 1744252200, 'end': 1744276500},\n",
       "   {'start': 1744857000, 'end': 1744881300},\n",
       "   {'start': 1728613800, 'end': 1728638100},\n",
       "   {'start': 1729218600, 'end': 1729242900},\n",
       "   {'start': 1729823400, 'end': 1729847700},\n",
       "   {'start': 1730428200, 'end': 1730452500},\n",
       "   {'start': 1731036600, 'end': 1731060900},\n",
       "   {'start': 1731641400, 'end': 1731665700},\n",
       "   {'start': 1732246200, 'end': 1732270500},\n",
       "   {'start': 1732851000, 'end': 1732875300},\n",
       "   {'start': 1733455800, 'end': 1733480100},\n",
       "   {'start': 1734060600, 'end': 1734084900},\n",
       "   {'start': 1734665400, 'end': 1734689700},\n",
       "   {'start': 1735270200, 'end': 1735294500},\n",
       "   {'start': 1735875000, 'end': 1735899300},\n",
       "   {'start': 1736479800, 'end': 1736504100},\n",
       "   {'start': 1737084600, 'end': 1737108900},\n",
       "   {'start': 1737689400, 'end': 1737713700},\n",
       "   {'start': 1738294200, 'end': 1738318500},\n",
       "   {'start': 1738899000, 'end': 1738923300},\n",
       "   {'start': 1739503800, 'end': 1739528100},\n",
       "   {'start': 1740108600, 'end': 1740132900},\n",
       "   {'start': 1740713400, 'end': 1740737700},\n",
       "   {'start': 1741318200, 'end': 1741342500},\n",
       "   {'start': 1741919400, 'end': 1741943700},\n",
       "   {'start': 1742524200, 'end': 1742548500},\n",
       "   {'start': 1743129000, 'end': 1743153300},\n",
       "   {'start': 1743733800, 'end': 1743758100},\n",
       "   {'start': 1744338600, 'end': 1744362900},\n",
       "   {'start': 1744943400, 'end': 1744967700},\n",
       "   {'start': 1728700200, 'end': 1728897300},\n",
       "   {'start': 1729305000, 'end': 1729502100},\n",
       "   {'start': 1729909800, 'end': 1730106900},\n",
       "   {'start': 1730514600, 'end': 1730715300},\n",
       "   {'start': 1731123000, 'end': 1731320100},\n",
       "   {'start': 1731727800, 'end': 1731924900},\n",
       "   {'start': 1732332600, 'end': 1732529700},\n",
       "   {'start': 1732937400, 'end': 1733134500},\n",
       "   {'start': 1733542200, 'end': 1733739300},\n",
       "   {'start': 1734147000, 'end': 1734344100},\n",
       "   {'start': 1734751800, 'end': 1734948900},\n",
       "   {'start': 1735356600, 'end': 1735553700},\n",
       "   {'start': 1735961400, 'end': 1736158500},\n",
       "   {'start': 1736566200, 'end': 1736763300},\n",
       "   {'start': 1737171000, 'end': 1737368100},\n",
       "   {'start': 1737775800, 'end': 1737972900},\n",
       "   {'start': 1738380600, 'end': 1738577700},\n",
       "   {'start': 1738985400, 'end': 1739182500},\n",
       "   {'start': 1739590200, 'end': 1739787300},\n",
       "   {'start': 1740195000, 'end': 1740392100},\n",
       "   {'start': 1740799800, 'end': 1740996900},\n",
       "   {'start': 1741404600, 'end': 1741598100},\n",
       "   {'start': 1742005800, 'end': 1742202900},\n",
       "   {'start': 1742610600, 'end': 1742807700},\n",
       "   {'start': 1743215400, 'end': 1743412500},\n",
       "   {'start': 1743820200, 'end': 1744017300},\n",
       "   {'start': 1744425000, 'end': 1744622100},\n",
       "   {'start': 1745029800, 'end': 1745208000}],\n",
       "  'informed_entity': [{'agency_id': 'MTASBWY',\n",
       "    'route_id': 'B',\n",
       "    'transit_realtime.mercury_entity_selector': {'sort_order': 'MTASBWY:B:1'}}],\n",
       "  'header_text': {'translation': [{'text': 'Take the [A][C][D][Q] instead',\n",
       "     'language': 'en'},\n",
       "    {'text': '<p>Take the [A][C][D][Q] instead</p>', 'language': 'en-html'}]},\n",
       "  'description_text': {'translation': [{'text': '[B] service operates weekday rush hours, middays and evenings\\n\\nPlan your trip at new.mta.info\\n\\nCheck out our official apps.',\n",
       "     'language': 'en'},\n",
       "    {'text': '<p>[B] service operates weekday rush hours, middays and evenings</p><p style=\"min-height:10px\"></p><p>Plan your trip at <a title=\"\" href=\"//new.mta.info\" rel=\"noopener noreferrer nofollow\" data-link-auto=\"\" target=\"_blank\">new.mta.info</a></p><p style=\"min-height:10px\"></p><p><a title=\"\" href=\"https://new.mta.info/guides/apps\" rel=\"noopener noreferrer nofollow\" target=\"_blank\">Check out our official apps</a>.</p>',\n",
       "     'language': 'en-html'}]},\n",
       "  'transit_realtime.mercury_alert': {'created_at': 1728318613,\n",
       "   'updated_at': 1729650600,\n",
       "   'alert_type': 'No Scheduled Service',\n",
       "   'display_before_active': 3600,\n",
       "   'human_readable_active_period': {'translation': [{'text': 'Overnight and weekends',\n",
       "      'language': 'en'}]},\n",
       "   'clone_id': 'lmm:planned_work:12694'}},\n",
       " {'active_period': [{'start': 1728356400, 'end': 1728381600},\n",
       "   {'start': 1728961200, 'end': 1728986400},\n",
       "   {'start': 1729566000, 'end': 1729591200},\n",
       "   {'start': 1730170800, 'end': 1730196000},\n",
       "   {'start': 1730779200, 'end': 1730804400},\n",
       "   {'start': 1731384000, 'end': 1731409200},\n",
       "   {'start': 1731988800, 'end': 1732014000},\n",
       "   {'start': 1732593600, 'end': 1732618800},\n",
       "   {'start': 1733198400, 'end': 1733223600},\n",
       "   {'start': 1733803200, 'end': 1733828400},\n",
       "   {'start': 1734408000, 'end': 1734433200},\n",
       "   {'start': 1735012800, 'end': 1735038000},\n",
       "   {'start': 1735617600, 'end': 1735642800},\n",
       "   {'start': 1736222400, 'end': 1736247600},\n",
       "   {'start': 1736827200, 'end': 1736852400},\n",
       "   {'start': 1737432000, 'end': 1737457200},\n",
       "   {'start': 1738036800, 'end': 1738062000},\n",
       "   {'start': 1738641600, 'end': 1738666800},\n",
       "   {'start': 1739246400, 'end': 1739271600},\n",
       "   {'start': 1739851200, 'end': 1739876400},\n",
       "   {'start': 1740456000, 'end': 1740481200},\n",
       "   {'start': 1741060800, 'end': 1741086000},\n",
       "   {'start': 1741662000, 'end': 1741687200},\n",
       "   {'start': 1742266800, 'end': 1742292000},\n",
       "   {'start': 1742871600, 'end': 1742896800},\n",
       "   {'start': 1743476400, 'end': 1743501600},\n",
       "   {'start': 1744081200, 'end': 1744106400},\n",
       "   {'start': 1744686000, 'end': 1744711200},\n",
       "   {'start': 1728442800, 'end': 1728468000},\n",
       "   {'start': 1729047600, 'end': 1729072800},\n",
       "   {'start': 1729652400, 'end': 1729677600},\n",
       "   {'start': 1730257200, 'end': 1730282400},\n",
       "   {'start': 1730865600, 'end': 1730890800},\n",
       "   {'start': 1731470400, 'end': 1731495600},\n",
       "   {'start': 1732075200, 'end': 1732100400},\n",
       "   {'start': 1732680000, 'end': 1732705200},\n",
       "   {'start': 1733284800, 'end': 1733310000},\n",
       "   {'start': 1733889600, 'end': 1733914800},\n",
       "   {'start': 1734494400, 'end': 1734519600},\n",
       "   {'start': 1735099200, 'end': 1735124400},\n",
       "   {'start': 1735704000, 'end': 1735729200},\n",
       "   {'start': 1736308800, 'end': 1736334000},\n",
       "   {'start': 1736913600, 'end': 1736938800},\n",
       "   {'start': 1737518400, 'end': 1737543600},\n",
       "   {'start': 1738123200, 'end': 1738148400},\n",
       "   {'start': 1738728000, 'end': 1738753200},\n",
       "   {'start': 1739332800, 'end': 1739358000},\n",
       "   {'start': 1739937600, 'end': 1739962800},\n",
       "   {'start': 1740542400, 'end': 1740567600},\n",
       "   {'start': 1741147200, 'end': 1741172400},\n",
       "   {'start': 1741748400, 'end': 1741773600},\n",
       "   {'start': 1742353200, 'end': 1742378400},\n",
       "   {'start': 1742958000, 'end': 1742983200},\n",
       "   {'start': 1743562800, 'end': 1743588000},\n",
       "   {'start': 1744167600, 'end': 1744192800},\n",
       "   {'start': 1744772400, 'end': 1744797600},\n",
       "   {'start': 1728529200, 'end': 1728554400},\n",
       "   {'start': 1729134000, 'end': 1729159200},\n",
       "   {'start': 1729738800, 'end': 1729764000},\n",
       "   {'start': 1730343600, 'end': 1730368800},\n",
       "   {'start': 1730952000, 'end': 1730977200},\n",
       "   {'start': 1731556800, 'end': 1731582000},\n",
       "   {'start': 1732161600, 'end': 1732186800},\n",
       "   {'start': 1732766400, 'end': 1732791600},\n",
       "   {'start': 1733371200, 'end': 1733396400},\n",
       "   {'start': 1733976000, 'end': 1734001200},\n",
       "   {'start': 1734580800, 'end': 1734606000},\n",
       "   {'start': 1735185600, 'end': 1735210800},\n",
       "   {'start': 1735790400, 'end': 1735815600},\n",
       "   {'start': 1736395200, 'end': 1736420400},\n",
       "   {'start': 1737000000, 'end': 1737025200},\n",
       "   {'start': 1737604800, 'end': 1737630000},\n",
       "   {'start': 1738209600, 'end': 1738234800},\n",
       "   {'start': 1738814400, 'end': 1738839600},\n",
       "   {'start': 1739419200, 'end': 1739444400},\n",
       "   {'start': 1740024000, 'end': 1740049200},\n",
       "   {'start': 1740628800, 'end': 1740654000},\n",
       "   {'start': 1741233600, 'end': 1741258800},\n",
       "   {'start': 1741834800, 'end': 1741860000},\n",
       "   {'start': 1742439600, 'end': 1742464800},\n",
       "   {'start': 1743044400, 'end': 1743069600},\n",
       "   {'start': 1743649200, 'end': 1743674400},\n",
       "   {'start': 1744254000, 'end': 1744279200},\n",
       "   {'start': 1744858800, 'end': 1744884000},\n",
       "   {'start': 1728615600, 'end': 1728640800},\n",
       "   {'start': 1729220400, 'end': 1729245600},\n",
       "   {'start': 1729825200, 'end': 1729850400},\n",
       "   {'start': 1730430000, 'end': 1730455200},\n",
       "   {'start': 1731038400, 'end': 1731063600},\n",
       "   {'start': 1731643200, 'end': 1731668400},\n",
       "   {'start': 1732248000, 'end': 1732273200},\n",
       "   {'start': 1732852800, 'end': 1732878000},\n",
       "   {'start': 1733457600, 'end': 1733482800},\n",
       "   {'start': 1734062400, 'end': 1734087600},\n",
       "   {'start': 1734667200, 'end': 1734692400},\n",
       "   {'start': 1735272000, 'end': 1735297200},\n",
       "   {'start': 1735876800, 'end': 1735902000},\n",
       "   {'start': 1736481600, 'end': 1736506800},\n",
       "   {'start': 1737086400, 'end': 1737111600},\n",
       "   {'start': 1737691200, 'end': 1737716400},\n",
       "   {'start': 1738296000, 'end': 1738321200},\n",
       "   {'start': 1738900800, 'end': 1738926000},\n",
       "   {'start': 1739505600, 'end': 1739530800},\n",
       "   {'start': 1740110400, 'end': 1740135600},\n",
       "   {'start': 1740715200, 'end': 1740740400},\n",
       "   {'start': 1741320000, 'end': 1741345200},\n",
       "   {'start': 1741921200, 'end': 1741946400},\n",
       "   {'start': 1742526000, 'end': 1742551200},\n",
       "   {'start': 1743130800, 'end': 1743156000},\n",
       "   {'start': 1743735600, 'end': 1743760800},\n",
       "   {'start': 1744340400, 'end': 1744365600},\n",
       "   {'start': 1744945200, 'end': 1744970400},\n",
       "   {'start': 1728702000, 'end': 1728791940},\n",
       "   {'start': 1729306800, 'end': 1729396740},\n",
       "   {'start': 1729911600, 'end': 1730001540},\n",
       "   {'start': 1730516400, 'end': 1730606340},\n",
       "   {'start': 1731124800, 'end': 1731214740},\n",
       "   {'start': 1731729600, 'end': 1731819540},\n",
       "   {'start': 1732334400, 'end': 1732424340},\n",
       "   {'start': 1732939200, 'end': 1733029140},\n",
       "   {'start': 1733544000, 'end': 1733633940},\n",
       "   {'start': 1734148800, 'end': 1734238740},\n",
       "   {'start': 1734753600, 'end': 1734843540},\n",
       "   {'start': 1735358400, 'end': 1735448340},\n",
       "   {'start': 1735963200, 'end': 1736053140},\n",
       "   {'start': 1736568000, 'end': 1736657940},\n",
       "   {'start': 1737172800, 'end': 1737262740},\n",
       "   {'start': 1737777600, 'end': 1737867540},\n",
       "   {'start': 1738382400, 'end': 1738472340},\n",
       "   {'start': 1738987200, 'end': 1739077140},\n",
       "   {'start': 1739592000, 'end': 1739681940},\n",
       "   {'start': 1740196800, 'end': 1740286740},\n",
       "   {'start': 1740801600, 'end': 1740891540},\n",
       "   {'start': 1741406400, 'end': 1741496340},\n",
       "   {'start': 1742007600, 'end': 1742097540},\n",
       "   {'start': 1742612400, 'end': 1742702340},\n",
       "   {'start': 1743217200, 'end': 1743307140},\n",
       "   {'start': 1743822000, 'end': 1743911940},\n",
       "   {'start': 1744426800, 'end': 1744516740},\n",
       "   {'start': 1745031600, 'end': 1745121540},\n",
       "   {'start': 1728792000, 'end': 1728878340},\n",
       "   {'start': 1729396800, 'end': 1729483140},\n",
       "   {'start': 1730001600, 'end': 1730087940},\n",
       "   {'start': 1730606400, 'end': 1730696340},\n",
       "   {'start': 1731214800, 'end': 1731301140},\n",
       "   {'start': 1731819600, 'end': 1731905940},\n",
       "   {'start': 1732424400, 'end': 1732510740},\n",
       "   {'start': 1733029200, 'end': 1733115540},\n",
       "   {'start': 1733634000, 'end': 1733720340},\n",
       "   {'start': 1734238800, 'end': 1734325140},\n",
       "   {'start': 1734843600, 'end': 1734929940},\n",
       "   {'start': 1735448400, 'end': 1735534740},\n",
       "   {'start': 1736053200, 'end': 1736139540},\n",
       "   {'start': 1736658000, 'end': 1736744340},\n",
       "   {'start': 1737262800, 'end': 1737349140},\n",
       "   {'start': 1737867600, 'end': 1737953940},\n",
       "   {'start': 1738472400, 'end': 1738558740},\n",
       "   {'start': 1739077200, 'end': 1739163540},\n",
       "   {'start': 1739682000, 'end': 1739768340},\n",
       "   {'start': 1740286800, 'end': 1740373140},\n",
       "   {'start': 1740891600, 'end': 1740977940},\n",
       "   {'start': 1741496400, 'end': 1741579140},\n",
       "   {'start': 1742097600, 'end': 1742183940},\n",
       "   {'start': 1742702400, 'end': 1742788740},\n",
       "   {'start': 1743307200, 'end': 1743393540},\n",
       "   {'start': 1743912000, 'end': 1743998340},\n",
       "   {'start': 1744516800, 'end': 1744603140},\n",
       "   {'start': 1745121600, 'end': 1745207940},\n",
       "   {'start': 1728273600, 'end': 1728295200},\n",
       "   {'start': 1728878400, 'end': 1728900000},\n",
       "   {'start': 1729483200, 'end': 1729504800},\n",
       "   {'start': 1730088000, 'end': 1730109600},\n",
       "   {'start': 1730696400, 'end': 1730718000},\n",
       "   {'start': 1731301200, 'end': 1731322800},\n",
       "   {'start': 1731906000, 'end': 1731927600},\n",
       "   {'start': 1732510800, 'end': 1732532400},\n",
       "   {'start': 1733115600, 'end': 1733137200},\n",
       "   {'start': 1733720400, 'end': 1733742000},\n",
       "   {'start': 1734325200, 'end': 1734346800},\n",
       "   {'start': 1734930000, 'end': 1734951600},\n",
       "   {'start': 1735534800, 'end': 1735556400},\n",
       "   {'start': 1736139600, 'end': 1736161200},\n",
       "   {'start': 1736744400, 'end': 1736766000},\n",
       "   {'start': 1737349200, 'end': 1737370800},\n",
       "   {'start': 1737954000, 'end': 1737975600},\n",
       "   {'start': 1738558800, 'end': 1738580400},\n",
       "   {'start': 1739163600, 'end': 1739185200},\n",
       "   {'start': 1739768400, 'end': 1739790000},\n",
       "   {'start': 1740373200, 'end': 1740394800},\n",
       "   {'start': 1740978000, 'end': 1740999600},\n",
       "   {'start': 1741579200, 'end': 1741600800},\n",
       "   {'start': 1742184000, 'end': 1742205600},\n",
       "   {'start': 1742788800, 'end': 1742810400},\n",
       "   {'start': 1743393600, 'end': 1743415200},\n",
       "   {'start': 1743998400, 'end': 1744020000},\n",
       "   {'start': 1744603200, 'end': 1744624800}],\n",
       "  'informed_entity': [{'agency_id': 'MTASBWY',\n",
       "    'route_id': 'W',\n",
       "    'transit_realtime.mercury_entity_selector': {'sort_order': 'MTASBWY:W:1'}}],\n",
       "  'header_text': {'translation': [{'text': 'Take the [N] or [R] instead',\n",
       "     'language': 'en'},\n",
       "    {'text': '<p>Take the [N] or [R] instead</p>', 'language': 'en-html'}]},\n",
       "  'description_text': {'translation': [{'text': '[W] service operates weekday rush hours, middays and evenings.\\n\\nPlan your trip at new.mta.info\\n\\nCheck out our official apps.',\n",
       "     'language': 'en'},\n",
       "    {'text': '<p>[W] service operates weekday rush hours, middays and evenings.</p><p style=\"min-height:10px\"></p><p>Plan your trip at <a title=\"\" href=\"//new.mta.info\" rel=\"noopener noreferrer nofollow\" data-link-auto=\"\" target=\"_blank\">new.mta.info</a></p><p style=\"min-height:10px\"></p><p><a title=\"\" href=\"https://new.mta.info/guides/apps\" rel=\"noopener noreferrer nofollow\" target=\"_blank\">Check out our official apps</a>.</p>',\n",
       "     'language': 'en-html'}]},\n",
       "  'transit_realtime.mercury_alert': {'created_at': 1728318552,\n",
       "   'updated_at': 1729591202,\n",
       "   'alert_type': 'No Scheduled Service',\n",
       "   'display_before_active': 3600,\n",
       "   'human_readable_active_period': {'translation': [{'text': 'Overnight and weekends',\n",
       "      'language': 'en'}]},\n",
       "   'clone_id': 'lmm:planned_work:12697'}}]"
      ]
     },
     "execution_count": 6,
     "metadata": {},
     "output_type": "execute_result"
    }
   ],
   "source": [
    "import pytz\n",
    "from datetime import datetime\n",
    "ET = pytz.timezone('US/Eastern')\n",
    "now = datetime.now().astimezone(ET)\n",
    "\n",
    "def is_active(alert):\n",
    "    for p in alert['active_period']:\n",
    "        start = datetime.fromtimestamp(p['start'], ET)\n",
    "        end = datetime.fromtimestamp(p.get('end', now.timestamp()), ET)\n",
    "        if start <= now <= end:\n",
    "            return True\n",
    "        \n",
    "C = list(filter(is_active, B))\n",
    "print(len(C))\n",
    "print('===')\n",
    "C[:2]"
   ]
  },
  {
   "cell_type": "markdown",
   "metadata": {},
   "source": [
    "D. Only keep the alert_type and route_id fields as a list of tuples."
   ]
  },
  {
   "cell_type": "code",
   "execution_count": 7,
   "metadata": {},
   "outputs": [
    {
     "data": {
      "text/plain": [
       "[('No Scheduled Service', 'B'),\n",
       " ('No Scheduled Service', 'W'),\n",
       " ('Station Notice', '1'),\n",
       " ('Planned - Stops Skipped', '1'),\n",
       " ('Planned - Express to Local', 'N'),\n",
       " ('Extra Service', '7'),\n",
       " ('Planned - Reroute', 'Q'),\n",
       " ('Planned - Reroute', 'R'),\n",
       " ('Planned - Part Suspended', 'N'),\n",
       " ('Planned - Stops Skipped', '1'),\n",
       " ('Planned - Part Suspended', '1'),\n",
       " ('No Scheduled Service', 'Z'),\n",
       " ('Station Notice', 'J'),\n",
       " ('Station Notice', 'J'),\n",
       " ('Station Notice', 'Q'),\n",
       " ('Station Notice', '7')]"
      ]
     },
     "execution_count": 7,
     "metadata": {},
     "output_type": "execute_result"
    }
   ],
   "source": [
    "D = list(map(lambda x: (x['transit_realtime.mercury_alert']['alert_type'],\n",
    "                        x['informed_entity'][0]['route_id']), C))\n",
    "D"
   ]
  },
  {
   "cell_type": "markdown",
   "metadata": {},
   "source": [
    "E. Turn the above list into a dictionary where keys are 'alert_type' and values are the sets of 'route_id'. Also, insert a key of 'Non Active Alert' that contains the rest of the key to the list."
   ]
  },
  {
   "cell_type": "code",
   "execution_count": 8,
   "metadata": {},
   "outputs": [
    {
     "data": {
      "text/plain": [
       "defaultdict(set,\n",
       "            {'No Scheduled Service': {'B', 'W', 'Z'},\n",
       "             'Station Notice': {'1', '7', 'J', 'Q'},\n",
       "             'Planned - Stops Skipped': {'1'},\n",
       "             'Planned - Express to Local': {'N'},\n",
       "             'Extra Service': {'7'},\n",
       "             'Planned - Reroute': {'Q', 'R'},\n",
       "             'Planned - Part Suspended': {'1', 'N'},\n",
       "             'Non Active Alerts': {'2',\n",
       "              '3',\n",
       "              '4',\n",
       "              '5',\n",
       "              '6',\n",
       "              'A',\n",
       "              'C',\n",
       "              'D',\n",
       "              'E',\n",
       "              'F',\n",
       "              'G',\n",
       "              'L',\n",
       "              'M',\n",
       "              'S',\n",
       "              'SF',\n",
       "              'SI',\n",
       "              'SR'}})"
      ]
     },
     "execution_count": 8,
     "metadata": {},
     "output_type": "execute_result"
    }
   ],
   "source": [
    "from collections import defaultdict\n",
    "E = defaultdict(set)\n",
    "no_active = set(list('1234567ABCDEFGJLMNQRSWZ')+['SI', 'SF', 'SR'])\n",
    "for alert_type, route_id in D:\n",
    "    E[alert_type].add(route_id)\n",
    "    no_active.discard(route_id)\n",
    "E['Non Active Alerts'] = no_active\n",
    "E"
   ]
  },
  {
   "cell_type": "markdown",
   "metadata": {},
   "source": [
    "F. Traverse the dictionary to output the status."
   ]
  },
  {
   "cell_type": "code",
   "execution_count": 9,
   "metadata": {},
   "outputs": [
    {
     "name": "stdout",
     "output_type": "stream",
     "text": [
      "Extra Service : 7\n",
      "No Scheduled Service : B W Z\n",
      "Non Active Alerts : 2 3 4 5 6 A C D E F G L M S SF SI SR\n",
      "Planned - Express to Local : N\n",
      "Planned - Part Suspended : 1 N\n",
      "Planned - Reroute : Q R\n",
      "Planned - Stops Skipped : 1\n",
      "Station Notice : 1 7 J Q\n"
     ]
    }
   ],
   "source": [
    "for status, lines in sorted(E.items()):\n",
    "    print(status, ':', ' '.join(sorted(lines)))"
   ]
  },
  {
   "cell_type": "code",
   "execution_count": 28,
   "metadata": {},
   "outputs": [
    {
     "name": "stdout",
     "output_type": "stream",
     "text": [
      "Last refresh: 2024-10-22 23:29:22\n",
      "No Scheduled Service : B W Z\n",
      "Station Notice : 1 7 J Q\n",
      "Planned - Stops Skipped : 1\n",
      "Planned - Express to Local : N\n",
      "Extra Service : 7\n",
      "Planned - Reroute : Q R\n",
      "Planned - Part Suspended : 1 N\n",
      "Non Active Alerts : 2 3 4 5 6 A C D E F G L M S SF SI SR\n",
      "Non Active Alerts : 2 3 4 5 6 A C D E F G L M S SF SI SR\n"
     ]
    }
   ],
   "source": [
    "class MTAFeed:\n",
    "    def __init__(self):\n",
    "        self.refresh_time = datetime.now()\n",
    "        self.data = E  # Assuming E is the dictionary from previous cells\n",
    "\n",
    "    def getRefreshTime(self):\n",
    "        return self.refresh_time\n",
    "\n",
    "    def items(self):\n",
    "        return self.data.items()\n",
    "    \n",
    "    def __getitem__(self, key):\n",
    "        return self.data[key]\n",
    "\n",
    "feed = MTAFeed()\n",
    "print('Last refresh:', feed.getRefreshTime().isoformat(' ')[:19])\n",
    "for status, lines in feed.items():\n",
    "    print(status, ':', ' '.join(sorted(lines)))\n",
    "no_active = 'Non Active Alerts'\n",
    "print(no_active, ':', ' '.join(sorted(feed[no_active])))"
   ]
  },
  {
   "cell_type": "code",
   "execution_count": 15,
   "metadata": {},
   "outputs": [],
   "source": [
    "!python task1.py"
   ]
  },
  {
   "cell_type": "markdown",
   "metadata": {},
   "source": [
    "### Task 1\n",
    "\n",
    "Complete the implementation for the class below, and convert it to a standalone script to test."
   ]
  },
  {
   "cell_type": "code",
   "execution_count": 66,
   "metadata": {},
   "outputs": [],
   "source": [
    "from collections import defaultdict\n",
    "from datetime import datetime\n",
    "import pytz\n",
    "import requests\n",
    "\n",
    "class MTAFeed:\n",
    "    '''\n",
    "    This class fetches data from the MTA feed and parse them into active alerts\n",
    "    based on the current time (or a time that it gives). The class should also\n",
    "    act as a 'dict' allowing user to iterate and retrieve items, with a special\n",
    "    key 'Non Active Alerts' to list lines that have no active alerts.\n",
    "    Sample usage:\n",
    "\n",
    "    >>> feed = MTAFeed()\n",
    "\n",
    "    >>> print(feed.getLines())\n",
    "    {'1', '2', '3', '4', '5', '6', '7', 'A', 'B', 'C',..., 'SI', 'SF', 'SR'}\n",
    "\n",
    "    >>> for item in feed.items():\n",
    "    ...     print(item)\n",
    "    ('Delays', {'N', 'W'})\n",
    "    ('Planned - Express to Local', {'Z', 'J'})\n",
    "    ('Planned - Trains Rerouted', {'D'})\n",
    "    ('Station Notice', {'Z', 'J'})\n",
    "\n",
    "    >>> feed.refresh()\n",
    "    >>> for item in feed.items(include_non_active=True):\n",
    "    ...     print(item)\n",
    "    ('Delays', {'N', 'W'})\n",
    "    ('Non Active Alerts', {'1', 'C', '2', '5', 'G', ..., 'Q'})\n",
    "    ('Planned - Express to Local', {'Z', 'J'})\n",
    "    ('Planned - Trains Rerouted', {'D'})\n",
    "    ('Station Notice', {'Z', 'J'})\n",
    "\n",
    "    >>> print(feed['Non Active Alerts'])\n",
    "    {'1', 'C', '2', '5', 'G', ..., 'Q'}\n",
    "\n",
    "    '''\n",
    "    def __init__(self):\n",
    "        '''\n",
    "        Initialize the class attributes and start retrieving the feed (by\n",
    "        calling the class method self.refresh())\n",
    "        '''\n",
    "        self.refresh()\n",
    "\n",
    "    def refresh(self):\n",
    "        '''\n",
    "        This method refreshes the data by downloading the feed and extracting\n",
    "        the alert based on the current timestamp (needed for checking active periods).\n",
    "        '''\n",
    "        self.refresh_time = datetime.now(pytz.timezone('US/Eastern'))\n",
    "        self.data = defaultdict(set)\n",
    "\n",
    "        no_active = set(list('1234567ABCDEFGJLMNQRSWZ') + ['SI', 'SF', 'SR'])\n",
    "        for alert_type, route_id in D:\n",
    "            self.data[alert_type].add(route_id)\n",
    "            no_active.discard(route_id)\n",
    "        self.data['Non Active Alerts'] = no_active\n",
    "\n",
    "    def getRefreshTime(self):\n",
    "        '''\n",
    "        This returns the datetime object of when we last refresh the feed. The\n",
    "        datetime object should be timezone aware and in the same time zone of\n",
    "        the feed, 'US/Eastern'\n",
    "\n",
    "        >>> feed.getRefreshTime().isoformat()\n",
    "        '2023-03-29T09:00:28.789415-04:00'\n",
    "\n",
    "        '''\n",
    "        # return self.refresh_time\n",
    "\n",
    "        # Ensure the refresh time is timezone aware and in 'US/Eastern'\n",
    "        if self.refresh_time.tzinfo is None:\n",
    "            self.refresh_time = self.refresh_time.replace(tzinfo=pytz.timezone('US/Eastern'))\n",
    "        return self.refresh_time\n",
    "    \n",
    "    def items(self, include_non_active=False):\n",
    "        '''\n",
    "        Returns an iterator to all alerts (including 'Non Active Alerts' if\n",
    "        include_non_active is set to True). This should be a generator. The\n",
    "        idea is to allow users to iterate through the alerts, e.g.:\n",
    "\n",
    "        >>> for item in feed.items():\n",
    "        ...\n",
    "\n",
    "        '''\n",
    "        for alert_type, routes in self.data.items():\n",
    "            if include_non_active or alert_type != 'Non Active Alerts':\n",
    "                yield alert_type, routes\n",
    "\n",
    "\n",
    "    def __getitem__(self, alert_type):\n",
    "        '''\n",
    "        We override this built-in operator to allow users to directly retrieve\n",
    "        the set of lines associated with the alert_type, e.g.:\n",
    "\n",
    "        >>> print(feed['Delays'])\n",
    "        {'N', 'W'}\n",
    "\n",
    "        '''\n",
    "        return self.data.get(alert_type, set())\n",
    "    \n",
    "    def getLines(self):\n",
    "        '''\n",
    "        Return the set of all possible lines, which should be the union of\n",
    "        all lines across both active and non-active alerts.\n",
    "        '''\n",
    "        all_lines = set()\n",
    "\n",
    "        # Iterate through all the alerts and collect all the lines\n",
    "        for routes in self.data.values():\n",
    "            all_lines.update(routes)\n",
    "\n",
    "        return all_lines\n"
   ]
  },
  {
   "cell_type": "markdown",
   "metadata": {},
   "source": [
    "Use the following code to test your class."
   ]
  },
  {
   "cell_type": "code",
   "execution_count": 67,
   "metadata": {},
   "outputs": [
    {
     "name": "stdout",
     "output_type": "stream",
     "text": [
      "Last refresh:  2024-10-23 01:01:13\n",
      "No Scheduled Service : B W Z\n",
      "Station Notice : 1 7 J Q\n",
      "Planned - Stops Skipped : 1\n",
      "Planned - Express to Local : N\n",
      "Extra Service : 7\n",
      "Planned - Reroute : Q R\n",
      "Planned - Part Suspended : 1 N\n",
      "Non Active Alerts : 2 3 4 5 6 A C D E F G L M S SF SI SR\n"
     ]
    }
   ],
   "source": [
    "feed = MTAFeed()\n",
    "print('Last refresh: ', feed.getRefreshTime().isoformat(' ')[:19])\n",
    "for status, lines in feed.items():\n",
    "    print(status, ':', ' '.join(sorted(lines)))\n",
    "no_active = 'Non Active Alerts'\n",
    "print(no_active, ':', ' '.join(sorted(feed[no_active])))"
   ]
  },
  {
   "cell_type": "code",
   "execution_count": 69,
   "metadata": {},
   "outputs": [
    {
     "name": "stdout",
     "output_type": "stream",
     "text": [
      "Traceback (most recent call last):\n",
      "  File \"/Users/yemoe/Downloads/PyQt/task1.py\", line 3, in <module>\n",
      "    import pytz\n",
      "ModuleNotFoundError: No module named 'pytz'\n"
     ]
    }
   ],
   "source": [
    "!python task1.py"
   ]
  },
  {
   "cell_type": "markdown",
   "metadata": {},
   "source": [
    "### Task 2\n",
    "\n",
    "Integrate the MTAFeed in Step 1 into our existing GUI code. You may reuse task1.py code above as a module for your MTAFeed class:"
   ]
  },
  {
   "cell_type": "code",
   "execution_count": null,
   "metadata": {},
   "outputs": [],
   "source": [
    "if __name__ == '__main__':\n",
    "    feed = MTAFeed()\n",
    "    print('Last refresh: ', feed.getRefreshTime().isoformat(' ')[:19])\n",
    "    for status, lines in feed.items():\n",
    "        print(status, ':', ' '.join(sorted(lines)))\n",
    "no_active = 'Non Active Alerts'\n",
    "print(no_active, ':', ' '.join(sorted(feed[no_active])))"
   ]
  },
  {
   "cell_type": "markdown",
   "metadata": {},
   "source": [
    "Then, you can import MTAFeed in your GUI code without worrying the test being run."
   ]
  }
 ],
 "metadata": {
  "kernelspec": {
   "display_name": "Python 3",
   "language": "python",
   "name": "python3"
  },
  "language_info": {
   "codemirror_mode": {
    "name": "ipython",
    "version": 3
   },
   "file_extension": ".py",
   "mimetype": "text/x-python",
   "name": "python",
   "nbconvert_exporter": "python",
   "pygments_lexer": "ipython3",
   "version": "3.10.8"
  }
 },
 "nbformat": 4,
 "nbformat_minor": 2
}
